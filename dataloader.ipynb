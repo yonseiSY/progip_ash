{
 "cells": [
  {
   "cell_type": "code",
   "execution_count": null,
   "id": "d12135e9",
   "metadata": {},
   "outputs": [],
   "source": [
    "import torch\n",
    "import torchvision.transforms as transforms\n",
    "from torchvision.datasets import CIFAR10, CIFAR100, SVHN\n",
    "import random\n",
    "from torch.utils.data import DataLoader, Subset"
   ]
  },
  {
   "cell_type": "code",
   "execution_count": null,
   "id": "08aa5868",
   "metadata": {},
   "outputs": [],
   "source": [
    "device = torch.device(\"cuda\" if torch.cuda.is_available() else \"cpu\")"
   ]
  },
  {
   "cell_type": "code",
   "execution_count": null,
   "id": "b2e109b4",
   "metadata": {},
   "outputs": [],
   "source": [
    "def get_mean_std(dataset=''):\n",
    "    if dataset == 'cifar10':\n",
    "        mean = (0.4914, 0.4822, 0.4465)\n",
    "        std = (0.2023, 0.1994, 0.2010)\n",
    "    elif dataset == 'cifar100':\n",
    "        mean = (0.5071, 0.4865, 0.4409)\n",
    "        std = (0.2009, 0.1984, 0.2023)\n",
    "        \n",
    "    return mean, std"
   ]
  },
  {
   "cell_type": "code",
   "execution_count": null,
   "id": "2ab2c16c",
   "metadata": {},
   "outputs": [],
   "source": [
    "def get_imageloader(dataset='', batch_size=0, mean=(0, 0, 0), std=(0, 0, 0)):   \n",
    "    trainloader = None\n",
    "    \n",
    "    datapath = './data/' + dataset\n",
    "\n",
    "    transform = transforms.Compose([\n",
    "        transforms.ToTensor(),\n",
    "        transforms.Normalize(mean=mean, std=std)\n",
    "    ])\n",
    "\n",
    "    # Load datasets with normalization\n",
    "    if dataset == 'cifar10':\n",
    "        trainset = CIFAR10(root=datapath, train=True, download=True, transform=transform)\n",
    "        testset = CIFAR10(root=datapath, train=False, download=True, transform=transform)\n",
    "        trainloader = torch.utils.data.DataLoader(trainset, batch_size=batch_size, shuffle=False, num_workers=2)  \n",
    "        testloader = torch.utils.data.DataLoader(testset, batch_size=batch_size, shuffle=False, num_workers=2)\n",
    "    elif dataset == 'cifar100':\n",
    "        trainset = CIFAR100(root=datapath, train=True, download=True, transform=transform)\n",
    "        testset = CIFAR100(root=datapath, train=False, download=True, transform=transform)\n",
    "        trainloader = torch.utils.data.DataLoader(trainset, batch_size=batch_size, shuffle=False, num_workers=2)  \n",
    "        testloader = torch.utils.data.DataLoader(testset, batch_size=batch_size, shuffle=False, num_workers=2)\n",
    "    elif dataset == 'svhn':\n",
    "        testset = SVHN(root=datapath, split='test', download=True, transform=transform)       \n",
    "             \n",
    "        num_samples = 10000\n",
    "            \n",
    "        print(f'num_samples: {num_samples}')\n",
    "\n",
    "        # Set seed for reproducibility\n",
    "        random.seed(42)\n",
    "\n",
    "        indices = random.sample(range(len(testset)), num_samples)\n",
    "        testset = Subset(testset, indices)\n",
    "\n",
    "        # Create a DataLoader for the subset\n",
    "        testloader = DataLoader(testset, batch_size=batch_size, shuffle=False, num_workers=2)\n",
    "    return trainloader, testloader"
   ]
  }
 ],
 "metadata": {
  "language_info": {
   "name": "python"
  }
 },
 "nbformat": 4,
 "nbformat_minor": 5
}
