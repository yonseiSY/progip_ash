{
 "cells": [
  {
   "cell_type": "code",
   "execution_count": null,
   "id": "ca80c8bc",
   "metadata": {},
   "outputs": [],
   "source": [
    "import os\n",
    "\n",
    "import numpy as np\n",
    "import torch\n",
    "import torch.nn.functional as F\n",
    "\n",
    "import random"
   ]
  },
  {
   "cell_type": "code",
   "execution_count": null,
   "id": "fe4426d0",
   "metadata": {},
   "outputs": [],
   "source": [
    "device = torch.device(\"cuda\" if torch.cuda.is_available() else \"cpu\")\n",
    "\n",
    "seed = 0\n",
    "random.seed(seed)\n",
    "np.random.seed(seed)\n",
    "torch.manual_seed(seed)\n",
    "torch.backends.cudnn.deterministic = True"
   ]
  },
  {
   "cell_type": "code",
   "execution_count": null,
   "id": "36c255bf",
   "metadata": {},
   "outputs": [],
   "source": [
    "def get_score(logits):\n",
    "    scores = torch.logsumexp(logits.data.cpu(), dim=1).numpy()\n",
    "    return scores"
   ]
  },
  {
   "cell_type": "code",
   "execution_count": null,
   "id": "0247632b",
   "metadata": {},
   "outputs": [],
   "source": [
    "def ash_b(x, percentile=65):\n",
    "    assert x.dim() == 4\n",
    "    assert 0 <= percentile <= 100\n",
    "    b, c, h, w = x.shape\n",
    "\n",
    "    # calculate the sum of the input per sample\n",
    "    s1 = x.sum(dim=[1, 2, 3])\n",
    "\n",
    "    n = x.shape[1:].numel()\n",
    "    k = n - int(np.round(n * percentile / 100.0))\n",
    "    t = x.view((b, c * h * w))\n",
    "    v, i = torch.topk(t, k, dim=1)\n",
    "    fill = s1 / k\n",
    "    fill = fill.unsqueeze(dim=1).expand(v.shape)\n",
    "    t.zero_().scatter_(dim=1, index=i, src=fill)\n",
    "    return x"
   ]
  },
  {
   "cell_type": "code",
   "execution_count": null,
   "id": "78467fc2",
   "metadata": {},
   "outputs": [],
   "source": [
    "def ash_p(x, percentile=65):\n",
    "    assert x.dim() == 4\n",
    "    assert 0 <= percentile <= 100\n",
    "\n",
    "    b, c, h, w = x.shape\n",
    "\n",
    "    n = x.shape[1:].numel()\n",
    "    k = n - int(np.round(n * percentile / 100.0))\n",
    "    t = x.view((b, c * h * w))\n",
    "    v, i = torch.topk(t, k, dim=1)\n",
    "    t.zero_().scatter_(dim=1, index=i, src=v)\n",
    "\n",
    "    return x"
   ]
  },
  {
   "cell_type": "code",
   "execution_count": null,
   "id": "fb99caab",
   "metadata": {},
   "outputs": [],
   "source": [
    "def ash_s(x, percentile=65):\n",
    "    assert x.dim() == 4\n",
    "    assert 0 <= percentile <= 100\n",
    "    b, c, h, w = x.shape\n",
    "\n",
    "    # calculate the sum of the input per sample\n",
    "    s1 = x.sum(dim=[1, 2, 3])\n",
    "    n = x.shape[1:].numel()\n",
    "    k = n - int(np.round(n * percentile / 100.0))\n",
    "    t = x.view((b, c * h * w))\n",
    "    v, i = torch.topk(t, k, dim=1)\n",
    "    t.zero_().scatter_(dim=1, index=i, src=v)\n",
    "\n",
    "    # calculate new sum of the input per sample after pruning\n",
    "    s2 = x.sum(dim=[1, 2, 3])\n",
    "\n",
    "    # apply sharpening\n",
    "    scale = s1 / s2\n",
    "    x = x * torch.exp(scale[:, None, None, None])\n",
    "\n",
    "    return x"
   ]
  },
  {
   "cell_type": "code",
   "execution_count": null,
   "id": "c3b4fe04",
   "metadata": {},
   "outputs": [],
   "source": [
    "def apply_ash(x, method):\n",
    "    if method.startswith('ash'):\n",
    "        [fn, p] = method.split('@')\n",
    "        return eval(fn)(x, int(p))\n",
    "\n",
    "    return x"
   ]
  }
 ],
 "metadata": {
  "kernelspec": {
   "display_name": "base",
   "language": "python",
   "name": "python3"
  },
  "language_info": {
   "codemirror_mode": {
    "name": "ipython",
    "version": 3
   },
   "file_extension": ".py",
   "mimetype": "text/x-python",
   "name": "python",
   "nbconvert_exporter": "python",
   "pygments_lexer": "ipython3",
   "version": "3.12.3"
  }
 },
 "nbformat": 4,
 "nbformat_minor": 5
}
