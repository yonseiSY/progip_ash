{
 "cells": [
  {
   "cell_type": "code",
   "execution_count": null,
   "id": "ccdc627e",
   "metadata": {},
   "outputs": [],
   "source": [
    "\"\"\"\n",
    "Created on Sun Oct 21 2018\n",
    "@author: Kimin Lee\n",
    "\"\"\"\n",
    "import import_ipynb\n",
    "import torch\n",
    "import numpy as np\n",
    "import calculate_log as callog\n",
    "import models\n",
    "import os\n",
    "import lib_generation\n",
    "\n",
    "from torchvision import transforms\n",
    "from torch.autograd import Variable\n",
    "\n",
    "import dataloader\n",
    "import random"
   ]
  },
  {
   "cell_type": "code",
   "execution_count": null,
   "id": "132abbfd",
   "metadata": {},
   "outputs": [],
   "source": [
    "device = torch.device(\"cuda\" if torch.cuda.is_available() else \"cpu\")\n",
    "\n",
    "seed = 0\n",
    "random.seed(seed)\n",
    "np.random.seed(seed)\n",
    "torch.manual_seed(seed)\n",
    "torch.backends.cudnn.deterministic = True"
   ]
  },
  {
   "cell_type": "code",
   "execution_count": null,
   "id": "647379f5",
   "metadata": {},
   "outputs": [],
   "source": [
    "def mahalanobis(model=None, trainloader=None, id_testloader=None, out_testloader=None, num_classes=10, magnitude=0.0014, std=(0,0,0), file_path=''):    \n",
    "    # set information about feature extaction\n",
    "    model.eval()\n",
    "    temp_x = torch.rand(2,3,32,32).to(device)\n",
    "    temp_x = Variable(temp_x)\n",
    "    temp_list = model.feature_list(temp_x)[1]\n",
    "    num_output = len(temp_list)\n",
    "    feature_list = np.empty(num_output)\n",
    "    count = 0\n",
    "    for out in temp_list:\n",
    "        feature_list[count] = out.size(1)\n",
    "        count += 1\n",
    "        \n",
    "    print('get sample mean and covariance')\n",
    "    sample_mean, precision = lib_generation.sample_estimator(model, num_classes, feature_list, trainloader)\n",
    "    \n",
    "    print('get Mahalanobis scores')\n",
    "    for i in range(num_output):\n",
    "        M_in = lib_generation.get_Mahalanobis_score(model, id_testloader, num_classes, file_path, \\\n",
    "                                                    True, std, sample_mean, precision, i, magnitude)\n",
    "        M_in = np.asarray(M_in, dtype=np.float32)\n",
    "        if i == 0:\n",
    "            Mahalanobis_in = M_in.reshape((M_in.shape[0], -1))\n",
    "        else:\n",
    "            Mahalanobis_in = np.concatenate((Mahalanobis_in, M_in.reshape((M_in.shape[0], -1))), axis=1)\n",
    "             \n",
    "    for i in range(num_output):\n",
    "        M_out = lib_generation.get_Mahalanobis_score(model, out_testloader, num_classes, file_path, \\\n",
    "                                                     False, std, sample_mean, precision, i, magnitude)\n",
    "        M_out = np.asarray(M_out, dtype=np.float32)\n",
    "        if i == 0:\n",
    "            Mahalanobis_out = M_out.reshape((M_out.shape[0], -1))\n",
    "        else:\n",
    "            Mahalanobis_out = np.concatenate((Mahalanobis_out, M_out.reshape((M_out.shape[0], -1))), axis=1)\n",
    "                \n",
    "    Mahalanobis_in = np.asarray(Mahalanobis_in, dtype=np.float32)\n",
    "    Mahalanobis_out = np.asarray(Mahalanobis_out, dtype=np.float32)\n",
    "    Mahalanobis_data, Mahalanobis_labels = lib_generation.merge_and_generate_labels(Mahalanobis_out, Mahalanobis_in)\n",
    "    \n",
    "    if num_classes == 10:\n",
    "        id_dataset='cifar10'\n",
    "    else:\n",
    "        id_dataset='cifar100'\n",
    "        \n",
    "    file_name = os.path.join(file_path, 'Mahalanobis_%s_%s_%s.npy' % (str(magnitude), id_dataset, 'svhn'))\n",
    "    Mahalanobis_data = np.concatenate((Mahalanobis_data, Mahalanobis_labels), axis=1)\n",
    "    np.save(file_name, Mahalanobis_data)"
   ]
  }
 ],
 "metadata": {
  "kernelspec": {
   "display_name": "PyTorch 2.2 (NGC 23.11/Python 3.10) on Backend.AI",
   "language": "python",
   "name": "python3"
  },
  "language_info": {
   "codemirror_mode": {
    "name": "ipython",
    "version": 3
   },
   "file_extension": ".py",
   "mimetype": "text/x-python",
   "name": "python",
   "nbconvert_exporter": "python",
   "pygments_lexer": "ipython3",
   "version": "3.10.12"
  }
 },
 "nbformat": 4,
 "nbformat_minor": 5
}
