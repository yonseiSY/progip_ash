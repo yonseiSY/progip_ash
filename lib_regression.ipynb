{
 "cells": [
  {
   "cell_type": "code",
   "execution_count": null,
   "id": "dfd97217",
   "metadata": {},
   "outputs": [],
   "source": [
    "# several functions are from https://github.com/xingjunm/lid_adversarial_subspace_detection\n",
    "from __future__ import print_function\n",
    "import torch\n",
    "import numpy as np\n",
    "import os\n",
    "import calculate_log as callog\n",
    "import random\n",
    "\n",
    "from scipy.spatial.distance import pdist, cdist, squareform"
   ]
  },
  {
   "cell_type": "code",
   "execution_count": null,
   "id": "19dce80a",
   "metadata": {},
   "outputs": [],
   "source": [
    "device = torch.device(\"cuda\" if torch.cuda.is_available() else \"cpu\")\n",
    "\n",
    "seed = 0\n",
    "random.seed(seed)\n",
    "np.random.seed(seed)\n",
    "torch.manual_seed(seed)\n",
    "torch.backends.cudnn.deterministic = True"
   ]
  },
  {
   "cell_type": "code",
   "execution_count": null,
   "id": "7e34edfc",
   "metadata": {},
   "outputs": [],
   "source": [
    "def block_split(X, Y):\n",
    "    \"\"\"\n",
    "    Split the data training and testing\n",
    "    :return: X (data) and Y (label) for training / testing\n",
    "    \"\"\"\n",
    "    \n",
    "    partition = 10000\n",
    "    \n",
    "    X_adv, Y_adv = X[:partition], Y[:partition]\n",
    "    X_norm, Y_norm = X[partition: :], Y[partition: :]\n",
    "    num_train = 1000\n",
    "\n",
    "    X_train = np.concatenate((X_norm[:num_train], X_adv[:num_train]))\n",
    "    Y_train = np.concatenate((Y_norm[:num_train], Y_adv[:num_train]))\n",
    "\n",
    "    X_test = np.concatenate((X_norm[num_train:], X_adv[num_train:]))\n",
    "    Y_test = np.concatenate((Y_norm[num_train:], Y_adv[num_train:]))\n",
    "\n",
    "    return X_train, Y_train, X_test, Y_test"
   ]
  },
  {
   "cell_type": "code",
   "execution_count": null,
   "id": "ef497f34",
   "metadata": {},
   "outputs": [],
   "source": [
    "def detection_performance(regressor, X, Y, outf):\n",
    "    \"\"\"\n",
    "    Measure the detection performance\n",
    "    return: detection metrics\n",
    "    \"\"\"\n",
    "    num_samples = X.shape[0]\n",
    "    l1 = open('%s/confidence_TMP_In.txt'%outf, 'w')\n",
    "    l2 = open('%s/confidence_TMP_Out.txt'%outf, 'w')\n",
    "    y_pred = regressor.predict_proba(X)[:, 1]\n",
    "\n",
    "    for i in range(num_samples):\n",
    "        if Y[i] == 0:\n",
    "            l1.write(\"{}\\n\".format(-y_pred[i]))\n",
    "        else:\n",
    "            l2.write(\"{}\\n\".format(-y_pred[i]))\n",
    "    l1.close()\n",
    "    l2.close()\n",
    "    results = callog.metric(outf, ['TMP'])\n",
    "    return results"
   ]
  },
  {
   "cell_type": "code",
   "execution_count": null,
   "id": "919afcae",
   "metadata": {},
   "outputs": [],
   "source": [
    "def load_characteristics(score, dataset, out, outf):\n",
    "    \"\"\"\n",
    "    Load the calculated scores\n",
    "    return: data and label of input score\n",
    "    \"\"\"\n",
    "    X, Y = None, None\n",
    "    \n",
    "    file_name = os.path.join(outf, \"%s_%s_%s.npy\" % (score, dataset, out))\n",
    "    data = np.load(file_name)\n",
    "    \n",
    "    if X is None:\n",
    "        X = data[:, :-1]\n",
    "    else:\n",
    "        X = np.concatenate((X, data[:, :-1]), axis=1)\n",
    "    if Y is None:\n",
    "        Y = data[:, -1] # labels only need to load once\n",
    "         \n",
    "    return X, Y"
   ]
  }
 ],
 "metadata": {
  "kernelspec": {
   "display_name": "PyTorch 2.2 (NGC 23.11/Python 3.10) on Backend.AI",
   "language": "python",
   "name": "python3"
  },
  "language_info": {
   "codemirror_mode": {
    "name": "ipython",
    "version": 3
   },
   "file_extension": ".py",
   "mimetype": "text/x-python",
   "name": "python",
   "nbconvert_exporter": "python",
   "pygments_lexer": "ipython3",
   "version": "3.10.12"
  }
 },
 "nbformat": 4,
 "nbformat_minor": 5
}
