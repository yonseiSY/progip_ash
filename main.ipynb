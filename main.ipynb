{
 "cells": [
  {
   "cell_type": "code",
   "execution_count": 1,
   "id": "19f8e3ac",
   "metadata": {},
   "outputs": [],
   "source": [
    "import import_ipynb\n",
    "import torch\n",
    "import dataloader\n",
    "import generate_mahalanobis\n",
    "import regression_mahalanobis\n",
    "import generate_odin\n",
    "import calmetric\n",
    "from models.resnet import ResNet34\n",
    "from models.densenet import DenseNet3\n",
    "import os\n",
    "import random\n",
    "import numpy as np"
   ]
  },
  {
   "cell_type": "code",
   "execution_count": null,
   "id": "e02b3336",
   "metadata": {},
   "outputs": [
    {
     "ename": "",
     "evalue": "",
     "output_type": "error",
     "traceback": [
      "\u001b[1;31mThe Kernel crashed while executing code in the current cell or a previous cell. \n",
      "\u001b[1;31mPlease review the code in the cell(s) to identify a possible cause of the failure. \n",
      "\u001b[1;31mClick <a href='https://aka.ms/vscodeJupyterKernelCrash'>here</a> for more info. \n",
      "\u001b[1;31mView Jupyter <a href='command:jupyter.viewOutput'>log</a> for further details."
     ]
    }
   ],
   "source": [
    "device = torch.device(\"cuda\" if torch.cuda.is_available() else \"cpu\")\n",
    "\n",
    "seed = 0\n",
    "random.seed(seed)\n",
    "np.random.seed(seed)\n",
    "torch.manual_seed(seed)\n",
    "torch.backends.cudnn.deterministic = True"
   ]
  },
  {
   "cell_type": "code",
   "execution_count": null,
   "id": "34c40474",
   "metadata": {},
   "outputs": [
    {
     "name": "stdout",
     "output_type": "stream",
     "text": [
      "num_samples: 10000\n",
      "Processing in-distribution images\n",
      "Processing out-of-distribution images\n",
      "Neural network architecture:                 resnet34\n",
      "In-distribution dataset:                      cifar10\n",
      "Out-of-distribution dataset:                     svhn\n",
      "\n",
      "                              ODIN\n",
      "FPR at TPR 95%:              39.3%\n",
      "Detection error:             15.8%\n",
      "AUROC:                       90.3%\n",
      "AUPR In:                     88.9%\n",
      "AUPR Out:                    90.5%\n",
      "num_samples: 10000\n",
      "Processing in-distribution images\n",
      "Processing out-of-distribution images\n",
      "Neural network architecture:                densenet3\n",
      "In-distribution dataset:                      cifar10\n",
      "Out-of-distribution dataset:                     svhn\n",
      "\n",
      "                              ODIN\n",
      "FPR at TPR 95%:              54.4%\n",
      "Detection error:             18.7%\n",
      "AUROC:                       88.6%\n",
      "AUPR In:                     89.1%\n",
      "AUPR Out:                    87.1%\n",
      "num_samples: 10000\n",
      "Processing in-distribution images\n"
     ]
    }
   ],
   "source": [
    "id_datasets = ['cifar10', 'cifar100']\n",
    "ood_dataset = 'svhn'\n",
    "model_names = ['resnet34', 'densenet3']\n",
    "batch_size = 128\n",
    "magnitude = 0.0014\n",
    "temperature = 1000\n",
    "\n",
    "for id_dataset in id_datasets:\n",
    "    if id_dataset == 'cifar10':\n",
    "        num_classes = 10\n",
    "    elif id_dataset == 'cifar100':\n",
    "        num_classes = 100\n",
    "        \n",
    "    for model_name in model_names:\n",
    "        if model_name == 'resnet34':\n",
    "            model = ResNet34(num_c=num_classes).to(device)\n",
    "        elif model_name == 'densenet3':\n",
    "            model = DenseNet3(100, num_classes, growth_rate=12).to(device)\n",
    "            \n",
    "        model_path = f'./pretrained/{model_name}_{id_dataset}.pth'\n",
    "        model.load_state_dict(torch.load(model_path, weights_only=True))\n",
    "        model.eval()\n",
    "        \n",
    "        mean, std = dataloader.get_mean_std(id_dataset)    \n",
    "        \n",
    "        id_trainloader, id_testloader = dataloader.get_imageloader(id_dataset, batch_size, mean, std)    \n",
    "        _, out_testloader = dataloader.get_imageloader(ood_dataset, batch_size, mean, std)    \n",
    "        \n",
    "        ##### ODIN #####\n",
    "        \n",
    "        file_path = f'./softmax_scores/{model_name}_{id_dataset}'\n",
    "        \n",
    "        if not os.path.exists(file_path):\n",
    "            os.makedirs(file_path)\n",
    "            \n",
    "        generate_odin.odin(model, id_testloader, out_testloader, magnitude, temperature, std, file_path)\n",
    "        calmetric.metric(model_name, id_dataset, ood_dataset, file_path)\n",
    "        \n",
    "        ##### Mahalanobis #####\n",
    "            \n",
    "        file_path = f'./output/{model_name}_{id_dataset}'\n",
    "        \n",
    "        if not os.path.exists(file_path):\n",
    "            os.makedirs(file_path)\n",
    "        \n",
    "        # generate_mahalanobis.mahalanobis(model, id_trainloader, id_testloader, out_testloader, num_classes, magnitude, std, file_path)\n",
    "        # regression_mahalanobis.regression(id_dataset, ood_dataset, file_path, score=f'Mahalanobis_{str(magnitude)}')\n",
    "        "
   ]
  }
 ],
 "metadata": {
  "kernelspec": {
   "display_name": "base",
   "language": "python",
   "name": "python3"
  },
  "language_info": {
   "codemirror_mode": {
    "name": "ipython",
    "version": 3
   },
   "file_extension": ".py",
   "mimetype": "text/x-python",
   "name": "python",
   "nbconvert_exporter": "python",
   "pygments_lexer": "ipython3",
   "version": "3.12.3"
  }
 },
 "nbformat": 4,
 "nbformat_minor": 5
}
